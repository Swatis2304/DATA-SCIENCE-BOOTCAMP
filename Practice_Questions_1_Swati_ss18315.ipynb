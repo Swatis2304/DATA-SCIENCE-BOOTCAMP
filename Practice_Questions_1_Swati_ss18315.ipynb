{
  "nbformat": 4,
  "nbformat_minor": 0,
  "metadata": {
    "colab": {
      "provenance": []
    },
    "kernelspec": {
      "name": "python3",
      "display_name": "Python 3"
    },
    "language_info": {
      "name": "python"
    }
  },
  "cells": [
    {
      "cell_type": "code",
      "execution_count": 1,
      "metadata": {
        "colab": {
          "base_uri": "https://localhost:8080/"
        },
        "id": "dPDXjX_12-3b",
        "outputId": "b35a14a9-3102-4445-fa08-5d2676f44212"
      },
      "outputs": [
        {
          "output_type": "stream",
          "name": "stdout",
          "text": [
            "Fibonacci Series up to 10 terms: [0, 1, 1, 2, 3, 5, 8, 13, 21, 34]\n"
          ]
        }
      ],
      "source": [
        "#Display Fibonacci Series up to 10 terms:\n",
        "\n",
        "def fibonacci(n):\n",
        "    fib_series = [0, 1]\n",
        "    while len(fib_series) < n:\n",
        "        next_num = fib_series[-1] + fib_series[-2]\n",
        "        fib_series.append(next_num)\n",
        "    return fib_series\n",
        "\n",
        "n = 10\n",
        "fibonacci_series = fibonacci(n)\n",
        "print(f\"Fibonacci Series up to {n} terms: {fibonacci_series}\")"
      ]
    },
    {
      "cell_type": "code",
      "source": [
        "#Display numbers at the odd indices of a list:\n",
        "\n",
        "my_list = [1, 2, 3, 4, 5, 6, 7, 8, 9]\n",
        "odd_indices_numbers = my_list[1::2]\n",
        "print(\"Numbers at odd indices:\", odd_indices_numbers)"
      ],
      "metadata": {
        "colab": {
          "base_uri": "https://localhost:8080/"
        },
        "id": "CIKyy0NG3Hih",
        "outputId": "137c0e2e-53ef-4d79-f9ed-9f4bda30bf7b"
      },
      "execution_count": 2,
      "outputs": [
        {
          "output_type": "stream",
          "name": "stdout",
          "text": [
            "Numbers at odd indices: [2, 4, 6, 8]\n"
          ]
        }
      ]
    },
    {
      "cell_type": "code",
      "source": [
        "#Print a list in reverse order:\n",
        "\n",
        "my_list = [1, 2, 3, 4, 5]\n",
        "my_list.reverse()  # or you can use my_list[::-1]\n",
        "print(\"Reversed list:\", my_list)"
      ],
      "metadata": {
        "colab": {
          "base_uri": "https://localhost:8080/"
        },
        "id": "6vEPQajX3a78",
        "outputId": "425a147e-fd1b-4e87-a72e-a752ca2a851a"
      },
      "execution_count": 3,
      "outputs": [
        {
          "output_type": "stream",
          "name": "stdout",
          "text": [
            "Reversed list: [5, 4, 3, 2, 1]\n"
          ]
        }
      ]
    },
    {
      "cell_type": "code",
      "source": [
        "#Count the number of different words in the given text:\n",
        "\n",
        "string = \"\"\"\n",
        "ChatGPT has created this text to provide tips on creating interesting paragraphs.\n",
        "\tFirst, start with a clear topic sentence that introduces the main idea.\n",
        "\tThen, support the topic sentence with specific details, examples, and evidence.\n",
        "\tVary the sentence length and structure to keep the reader engaged.\n",
        "\tFinally, end with a strong concluding sentence that summarizes the main points.\n",
        "\tRemember, practice makes perfect!\n",
        "\"\"\"\n",
        "\n",
        "words = string.split()\n",
        "unique_words = set(words)\n",
        "word_count = len(unique_words)\n",
        "print(\"Number of different words:\", word_count)"
      ],
      "metadata": {
        "colab": {
          "base_uri": "https://localhost:8080/"
        },
        "id": "m-T9Q8Fg3nhg",
        "outputId": "cf3c6ab6-9b9e-4d1c-8764-a8f26a8d507d"
      },
      "execution_count": 5,
      "outputs": [
        {
          "output_type": "stream",
          "name": "stdout",
          "text": [
            "Number of different words: 47\n"
          ]
        }
      ]
    },
    {
      "cell_type": "code",
      "source": [
        "#Write a function that counts the number of vowels in a word:\n",
        "\n",
        "def count_vowels(word):\n",
        "    vowels = \"AEIOUaeiou\"\n",
        "    vowel_count = sum(1 for char in word if char in vowels)\n",
        "    return vowel_count\n",
        "\n",
        "word = \"Hello\"\n",
        "vowel_count = count_vowels(word)\n",
        "print(f\"The word '{word}' contains {vowel_count} vowels.\")"
      ],
      "metadata": {
        "colab": {
          "base_uri": "https://localhost:8080/"
        },
        "id": "b8efq-744Qsv",
        "outputId": "b6b16c59-82f5-4191-d6bf-a983a5329b8c"
      },
      "execution_count": 6,
      "outputs": [
        {
          "output_type": "stream",
          "name": "stdout",
          "text": [
            "The word 'Hello' contains 2 vowels.\n"
          ]
        }
      ]
    },
    {
      "cell_type": "code",
      "source": [
        "#Iterate through the list of animals and print each one in all caps:\n",
        "\n",
        "animals = ['tiger', 'elephant', 'monkey', 'zebra', 'panther']\n",
        "for animal in animals:\n",
        "    print(animal.upper())"
      ],
      "metadata": {
        "colab": {
          "base_uri": "https://localhost:8080/"
        },
        "id": "YRrWsVHh4juQ",
        "outputId": "ef2bb042-aa4f-4bf8-9ead-a7e8ba70eec8"
      },
      "execution_count": 7,
      "outputs": [
        {
          "output_type": "stream",
          "name": "stdout",
          "text": [
            "TIGER\n",
            "ELEPHANT\n",
            "MONKEY\n",
            "ZEBRA\n",
            "PANTHER\n"
          ]
        }
      ]
    },
    {
      "cell_type": "code",
      "source": [
        "#Iterate from 1 to 15, printing whether each number is odd or even:\n",
        "\n",
        "for num in range(1, 16):\n",
        "    if num % 2 == 0:\n",
        "        print(f\"{num} is even\")\n",
        "    else:\n",
        "        print(f\"{num} is odd\")"
      ],
      "metadata": {
        "colab": {
          "base_uri": "https://localhost:8080/"
        },
        "id": "qDZS9DOL44sx",
        "outputId": "80c645fe-6ed1-4303-dc57-1f551aa9cb1d"
      },
      "execution_count": 8,
      "outputs": [
        {
          "output_type": "stream",
          "name": "stdout",
          "text": [
            "1 is odd\n",
            "2 is even\n",
            "3 is odd\n",
            "4 is even\n",
            "5 is odd\n",
            "6 is even\n",
            "7 is odd\n",
            "8 is even\n",
            "9 is odd\n",
            "10 is even\n",
            "11 is odd\n",
            "12 is even\n",
            "13 is odd\n",
            "14 is even\n",
            "15 is odd\n"
          ]
        }
      ]
    },
    {
      "cell_type": "code",
      "source": [
        "#Take two integers as input from the user and return their sum:\n",
        "\n",
        "num1 = int(input(\"Enter the first integer: \"))\n",
        "num2 = int(input(\"Enter the second integer: \"))\n",
        "result = num1 + num2\n",
        "print(f\"The sum of {num1} and {num2} is {result}\")"
      ],
      "metadata": {
        "colab": {
          "base_uri": "https://localhost:8080/"
        },
        "id": "j5-3zXT-5GAQ",
        "outputId": "3885ce0e-670b-4b1f-f097-7d97b0660959"
      },
      "execution_count": 9,
      "outputs": [
        {
          "output_type": "stream",
          "name": "stdout",
          "text": [
            "Enter the first integer: 2\n",
            "Enter the second integer: 5\n",
            "The sum of 2 and 5 is 7\n"
          ]
        }
      ]
    }
  ]
}